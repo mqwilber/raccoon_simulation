{
 "cells": [
  {
   "cell_type": "code",
   "execution_count": null,
   "metadata": {
    "collapsed": true
   },
   "outputs": [],
   "source": []
  },
  {
   "cell_type": "code",
   "execution_count": 18,
   "metadata": {
    "collapsed": false
   },
   "outputs": [
    {
     "name": "stdout",
     "output_type": "stream",
     "text": [
      "Populating the interactive namespace from numpy and matplotlib\n"
     ]
    }
   ],
   "source": [
    "import raccoon_ipm as rp\n",
    "import numpy as np\n",
    "import yaml\n",
    "import scipy.stats as stats\n",
    "import macroeco.models as md\n",
    "reload(rp)\n",
    "%pylab inline"
   ]
  },
  {
   "cell_type": "markdown",
   "metadata": {},
   "source": [
    "## Simulating the Raccoon IBM model\n",
    "\n",
    "This might be slow, but conceptually need to understand how it will work.\n",
    "\n",
    "1. Infection and death occur on the weekly time-scale\n",
    "2. Aging and reproduction occur on the monthly time scale\n",
    "\n",
    "Conceptually, assume that we have "
   ]
  },
  {
   "cell_type": "code",
   "execution_count": 19,
   "metadata": {
    "collapsed": true
   },
   "outputs": [],
   "source": [
    "# Load parameters\n",
    "with open('ipm_params.yml') as f:\n",
    "    # use safe_load instead load\n",
    "    params = yaml.safe_load(f)\n",
    "\n",
    "params['age_immunity'] = 10000\n",
    "params['k_rodent'] = 0.2\n",
    "params['egg_contact'] = 0.02"
   ]
  },
  {
   "cell_type": "code",
   "execution_count": 51,
   "metadata": {
    "collapsed": false
   },
   "outputs": [
    {
     "name": "stdout",
     "output_type": "stream",
     "text": [
      "importing numpy on engine(s)\n",
      "importing raccoon_ipm on engine(s)\n"
     ]
    }
   ],
   "source": [
    "# Ensure clusters are started on separate nodes\n",
    "import ipyparallel as ipp\n",
    "rc = ipp.Client()\n",
    "dv = rc[:]\n",
    "\n",
    "# Import the necessary modules onto clusters\n",
    "with dv.sync_imports():\n",
    "    import numpy\n",
    "    import raccoon_ipm"
   ]
  },
  {
   "cell_type": "code",
   "execution_count": 94,
   "metadata": {
    "collapsed": true
   },
   "outputs": [],
   "source": [
    "rc.close()"
   ]
  },
  {
   "cell_type": "code",
   "execution_count": 24,
   "metadata": {
    "collapsed": false
   },
   "outputs": [
    {
     "data": {
      "text/plain": [
       "<module 'raccoon_ipm' from 'raccoon_ipm.pyc'>"
      ]
     },
     "execution_count": 24,
     "metadata": {},
     "output_type": "execute_result"
    }
   ],
   "source": [
    "reload(rp)"
   ]
  },
  {
   "cell_type": "code",
   "execution_count": 52,
   "metadata": {
    "collapsed": false
   },
   "outputs": [],
   "source": [
    "max_age = 100\n",
    "max_load = 101\n",
    "S = rp.get_survival_matrix(params, max_load=max_load, max_age=max_age)"
   ]
  },
  {
   "cell_type": "code",
   "execution_count": 53,
   "metadata": {
    "collapsed": false
   },
   "outputs": [
    {
     "name": "stdout",
     "output_type": "stream",
     "text": [
      "CPU times: user 29.6 s, sys: 5.53 s, total: 35.2 s\n",
      "Wall time: 3min 21s\n"
     ]
    }
   ],
   "source": [
    "%%time\n",
    "# Push necessary values to the clusters\n",
    "nxt, cur = np.meshgrid(range(max_load + 1), range(max_load + 1))\n",
    "dv.push(dict(params=params))\n",
    "\n",
    "Gmat = []\n",
    "for age in range(max_age):\n",
    "    \n",
    "    # This is what we want to parallelize over\n",
    "    dv.scatter('dt', zip(nxt.ravel(), cur.ravel()))\n",
    "    dv.push(dict(age=age))\n",
    "    %px gmat4 = [raccoon_ipm._growth_fxn(tnxt, tcur, age, 10000, params) for tnxt, tcur in dt]\n",
    "    Gmat.append(np.reshape(dv.gather('gmat4').get(), (len(nxt), len(nxt))).T)"
   ]
  },
  {
   "cell_type": "code",
   "execution_count": 42,
   "metadata": {
    "collapsed": false
   },
   "outputs": [
    {
     "name": "stdout",
     "output_type": "stream",
     "text": [
      "CPU times: user 1.4 s, sys: 420 ms, total: 1.82 s\n",
      "Wall time: 1.73 s\n"
     ]
    }
   ],
   "source": [
    "%%time\n",
    "Gmat_temp = rp.get_growth_matricies(params, max_age=1, max_load=101)"
   ]
  },
  {
   "cell_type": "code",
   "execution_count": 41,
   "metadata": {
    "collapsed": false
   },
   "outputs": [
    {
     "data": {
      "text/plain": [
       "True"
      ]
     },
     "execution_count": 41,
     "metadata": {},
     "output_type": "execute_result"
    }
   ],
   "source": [
    "np.all(Gmat_temp[0] == Gmat[0])"
   ]
  },
  {
   "cell_type": "code",
   "execution_count": 40,
   "metadata": {
    "collapsed": false
   },
   "outputs": [
    {
     "data": {
      "text/plain": [
       "array([[  2.00000000e-001,   1.32109571e-002,   8.72519022e-004, ...,\n",
       "          1.14998195e-118,   7.45409129e-120,   4.83108032e-121],\n",
       "       [  1.60000000e-001,   2.02137051e-001,   2.60022339e-002, ...,\n",
       "          1.65162736e-115,   1.08138113e-116,   7.07861023e-118],\n",
       "       [  1.28000000e-001,   1.60730645e-001,   2.04135385e-001, ...,\n",
       "          1.17407288e-112,   7.76549374e-114,   5.13453757e-115],\n",
       "       ..., \n",
       "       [  5.09258994e-011,   3.54827048e-011,   2.46518827e-011, ...,\n",
       "          3.58381556e-003,   1.35589248e-002,   3.58155818e-002],\n",
       "       [  4.07407195e-011,   2.82143131e-011,   1.94805837e-011, ...,\n",
       "          6.10220981e-004,   3.31307683e-003,   1.27478117e-002],\n",
       "       [  3.25925756e-011,   2.24348022e-011,   1.53940836e-011, ...,\n",
       "          1.03903128e-004,   5.50218471e-004,   3.06238766e-003]])"
      ]
     },
     "execution_count": 40,
     "metadata": {},
     "output_type": "execute_result"
    }
   ],
   "source": [
    "Gmat[0]"
   ]
  },
  {
   "cell_type": "code",
   "execution_count": 54,
   "metadata": {
    "collapsed": false
   },
   "outputs": [],
   "source": [
    "# Broadcast weekly survival prob across weekly growth\n",
    "StimesG = [S[:, i]*Gmat[i] for i in range(max_age)]\n",
    "\n",
    "# Get monthly survival and growth\n",
    "StimesG_month = [np.linalg.matrix_power(StimesG[i], 4) for i in range(max_age)]"
   ]
  },
  {
   "cell_type": "code",
   "execution_count": 55,
   "metadata": {
    "collapsed": false
   },
   "outputs": [
    {
     "data": {
      "text/plain": [
       "array([ 1.        ,  1.        ,  1.        ,  1.        ,  1.        ,\n",
       "        1.        ,  1.        ,  1.        ,  1.        ,  1.        ,\n",
       "        1.        ,  1.        ,  1.        ,  1.        ,  1.        ,\n",
       "        1.        ,  1.        ,  1.        ,  1.        ,  1.        ,\n",
       "        1.        ,  1.        ,  1.        ,  1.        ,  1.        ,\n",
       "        1.        ,  1.        ,  1.        ,  1.        ,  1.        ,\n",
       "        1.        ,  1.        ,  1.        ,  1.        ,  1.        ,\n",
       "        1.        ,  1.        ,  1.        ,  1.        ,  1.        ,\n",
       "        1.        ,  1.        ,  1.        ,  1.        ,  1.        ,\n",
       "        1.        ,  1.        ,  1.        ,  1.        ,  1.        ,\n",
       "        1.        ,  1.        ,  1.        ,  1.        ,  1.        ,\n",
       "        1.        ,  1.        ,  1.        ,  1.        ,  1.        ,\n",
       "        1.        ,  1.        ,  1.        ,  1.        ,  1.        ,\n",
       "        1.        ,  1.        ,  1.        ,  1.        ,  1.        ,\n",
       "        1.        ,  1.        ,  1.        ,  1.        ,  1.        ,\n",
       "        1.        ,  1.        ,  1.        ,  1.        ,  1.        ,\n",
       "        1.        ,  1.        ,  1.        ,  1.        ,  1.        ,\n",
       "        1.        ,  0.99999999,  0.99999998,  0.99999996,  0.99999992,\n",
       "        0.99999982,  0.99999961,  0.99999914,  0.99999811,  0.99999582,\n",
       "        0.9999907 ,  0.99997912,  0.99995267,  0.99989137,  0.99974627,\n",
       "        0.99939156,  0.99846929])"
      ]
     },
     "execution_count": 55,
     "metadata": {},
     "output_type": "execute_result"
    }
   ],
   "source": [
    "Gmat[i].sum(axis=0)"
   ]
  },
  {
   "cell_type": "code",
   "execution_count": 57,
   "metadata": {
    "collapsed": false
   },
   "outputs": [],
   "source": [
    "# Apply each matrix to load-distribution in an age class.\n",
    "\n",
    "# Initial load dists over age \n",
    "N_init = np.array([np.array([10] + [0]*max_load) for i in range(max_age)]).T\n",
    "N_vals = [N_init]\n",
    "months = 400\n",
    "\n",
    "# Loop over months for projection\n",
    "for j in range(months):\n",
    "    \n",
    "    # Project load-distributions forward 1 month\n",
    "    N_up = np.array([np.dot(StimesG_month[i], N_vals[j][:, i]).ravel() for i in range(max_age)]).T\n",
    "\n",
    "    # Reproduction\n",
    "    age_vect = N_up.sum(axis=0)[:, np.newaxis]\n",
    "    R = rp.get_repro_matrix(params, age_vect.sum(), max_age=max_age)\n",
    "    new_raccoons = np.sum(R[0, :] * age_vect.ravel())\n",
    "    new_class = np.array([new_raccoons] + [0]*max_load)[:, np.newaxis]\n",
    "\n",
    "    # Fully updated age-dependent and load-dependent vector\n",
    "    N_up2 = np.concatenate([new_class, N_up[:, 0:-1]], axis=1)\n",
    "    N_vals.append(N_up2)"
   ]
  },
  {
   "cell_type": "code",
   "execution_count": 58,
   "metadata": {
    "collapsed": false
   },
   "outputs": [
    {
     "data": {
      "text/plain": [
       "401"
      ]
     },
     "execution_count": 58,
     "metadata": {},
     "output_type": "execute_result"
    }
   ],
   "source": [
    "len(N_vals)"
   ]
  },
  {
   "cell_type": "code",
   "execution_count": 59,
   "metadata": {
    "collapsed": false
   },
   "outputs": [
    {
     "data": {
      "text/plain": [
       "[<matplotlib.lines.Line2D at 0x115f3ca10>]"
      ]
     },
     "execution_count": 59,
     "metadata": {},
     "output_type": "execute_result"
    },
    {
     "data": {
      "image/png": "[encoded data removed]",
      "text/plain": [
       "<matplotlib.figure.Figure at 0x1159c0050>"
      ]
     },
     "metadata": {},
     "output_type": "display_data"
    }
   ],
   "source": [
    "plot([N_vals[i].sum() for i in range(months + 1)])"
   ]
  },
  {
   "cell_type": "code",
   "execution_count": 60,
   "metadata": {
    "collapsed": false
   },
   "outputs": [],
   "source": [
    "mean_prof = np.array([np.sum((racs / np.sum(racs))*np.arange(max_load + 1)) for racs in N_vals[months].T])\n",
    "mom2_prof = np.array([np.sum((racs / np.sum(racs))*np.arange(max_load + 1)**2) for racs in N_vals[months].T])\n",
    "var_prof = mom2_prof - mean_prof**2\n",
    "prev_prof = [1 - (racs[0] / np.sum(racs)) for racs in N_vals[months].T]"
   ]
  },
  {
   "cell_type": "code",
   "execution_count": 73,
   "metadata": {
    "collapsed": false
   },
   "outputs": [
    {
     "data": {
      "text/plain": [
       "[<matplotlib.lines.Line2D at 0x115be5b50>]"
      ]
     },
     "execution_count": 73,
     "metadata": {},
     "output_type": "execute_result"
    },
    {
     "data": {
      "image/png": "[encoded data removed]",
      "text/plain": [
       "<matplotlib.figure.Figure at 0x115572e90>"
      ]
     },
     "metadata": {},
     "output_type": "display_data"
    }
   ],
   "source": [
    "age_dist = N_vals[months].sum(axis=0) / np.sum(N_vals[months])"
   ]
  },
  {
   "cell_type": "code",
   "execution_count": 65,
   "metadata": {
    "collapsed": false
   },
   "outputs": [
    {
     "data": {
      "text/plain": [
       "array([[  1.00000000e+00,   0.00000000e+00,   0.00000000e+00, ...,\n",
       "          0.00000000e+00,   0.00000000e+00,   0.00000000e+00],\n",
       "       [  2.22158971e-03,   7.22866821e-03,   1.46371749e-02, ...,\n",
       "          5.85346105e-12,   4.38625770e-12,   3.36353005e-12],\n",
       "       [  1.21050946e-05,   8.03932284e-05,   2.98260294e-04, ...,\n",
       "          6.09297791e-13,   4.47228574e-13,   3.34238773e-13],\n",
       "       ..., \n",
       "       [  1.04282455e-01,   2.01128626e-01,   2.20336997e-01, ...,\n",
       "          7.79463959e-34,   3.56760425e-34,   1.63591398e-34],\n",
       "       [  1.04282455e-01,   2.01128626e-01,   2.20336997e-01, ...,\n",
       "          7.79463959e-34,   3.56760425e-34,   1.63591398e-34],\n",
       "       [  1.04282455e-01,   2.01128626e-01,   2.20336997e-01, ...,\n",
       "          7.79463958e-34,   3.56760425e-34,   1.63591398e-34]])"
      ]
     },
     "execution_count": 65,
     "metadata": {},
     "output_type": "execute_result"
    }
   ],
   "source": [
    "age_dist"
   ]
  },
  {
   "cell_type": "code",
   "execution_count": 61,
   "metadata": {
    "collapsed": false
   },
   "outputs": [
    {
     "data": {
      "text/plain": [
       "[<matplotlib.lines.Line2D at 0x1154f3a10>]"
      ]
     },
     "execution_count": 61,
     "metadata": {},
     "output_type": "execute_result"
    },
    {
     "data": {
      "image/png": "[encoded data removed]",
      "text/plain": [
       "<matplotlib.figure.Figure at 0x1159967d0>"
      ]
     },
     "metadata": {},
     "output_type": "display_data"
    }
   ],
   "source": [
    "plot(mean_prof)\n",
    "plot(mean_prof + np.sqrt(var_prof), '--', color=\"black\")\n",
    "plot(mean_prof - np.sqrt(var_prof), '--', color=\"black\")"
   ]
  },
  {
   "cell_type": "code",
   "execution_count": 63,
   "metadata": {
    "collapsed": false
   },
   "outputs": [
    {
     "data": {
      "text/plain": [
       "array([ 1.,  1.,  1.,  1.,  1.,  1.,  1.,  1.,  1.,  1.,  1.,  1.,  1.,\n",
       "        1.,  1.,  1.,  1.,  1.,  1.,  1.,  1.,  1.,  1.,  1.,  1.,  1.,\n",
       "        1.,  1.,  1.,  1.,  1.,  1.,  1.,  1.,  1.,  1.,  1.,  1.,  1.,\n",
       "        1.,  1.,  1.,  1.,  1.,  1.,  1.,  1.,  1.,  1.,  1.,  1.,  1.,\n",
       "        1.,  1.,  1.,  1.,  1.,  1.,  1.,  1.,  1.,  1.,  1.,  1.,  1.,\n",
       "        1.,  1.,  1.,  1.,  1.,  1.,  1.,  1.,  1.,  1.,  1.,  1.,  1.,\n",
       "        1.,  1.,  1.,  1.,  1.,  1.,  1.,  1.,  1.,  1.,  1.,  1.,  1.,\n",
       "        1.,  1.,  1.,  1.,  1.,  1.,  1.,  1.,  1.])"
      ]
     },
     "execution_count": 63,
     "metadata": {},
     "output_type": "execute_result"
    }
   ],
   "source": [
    "age_dist"
   ]
  },
  {
   "cell_type": "code",
   "execution_count": 321,
   "metadata": {
    "collapsed": false
   },
   "outputs": [
    {
     "data": {
      "text/plain": [
       "(0, 1.1)"
      ]
     },
     "execution_count": 321,
     "metadata": {},
     "output_type": "execute_result"
    },
    {
     "data": {
      "image/png": "[encoded data removed]",
      "text/plain": [
       "<matplotlib.figure.Figure at 0x11f154f50>"
      ]
     },
     "metadata": {},
     "output_type": "display_data"
    }
   ],
   "source": [
    "plot(prev_prof)\n",
    "plt.ylim(0, 1.1)"
   ]
  },
  {
   "cell_type": "code",
   "execution_count": 322,
   "metadata": {
    "collapsed": false
   },
   "outputs": [
    {
     "data": {
      "text/plain": [
       "[<matplotlib.lines.Line2D at 0x11e967150>]"
      ]
     },
     "execution_count": 322,
     "metadata": {},
     "output_type": "execute_result"
    },
    {
     "data": {
      "image/png": "[encoded data removed]",
      "text/plain": [
       "<matplotlib.figure.Figure at 0x11e299d90>"
      ]
     },
     "metadata": {},
     "output_type": "display_data"
    }
   ],
   "source": [
    "plot(N_vals[months].sum(axis=0))"
   ]
  },
  {
   "cell_type": "code",
   "execution_count": 89,
   "metadata": {
    "collapsed": false
   },
   "outputs": [],
   "source": [
    "# Relative R0\n",
    "reload(rp)\n",
    "with open('ipm_params.yml') as f:\n",
    "    # use safe_load instead load\n",
    "    params = yaml.safe_load(f)\n",
    "\n",
    "params['age_immunity'] = 10000\n",
    "params['k_rodent'] = 0.2\n",
    "params['egg_contact'] = 0.02\n",
    "age_dist = N_vals[months].sum(axis=0) / np.sum(N_vals[months])\n",
    "R0_rel = rp.relative_R0(params, max_age=100)\n",
    "avg_R0 = np.sum(age_dist * R0_rel)\n",
    "avg_lnR0 = np.sum(age_dist * np.log(np.array(R0_rel) + 1))"
   ]
  },
  {
   "cell_type": "code",
   "execution_count": 93,
   "metadata": {
    "collapsed": false
   },
   "outputs": [
    {
     "data": {
      "text/plain": [
       "<matplotlib.collections.LineCollection at 0x108d45210>"
      ]
     },
     "execution_count": 93,
     "metadata": {},
     "output_type": "execute_result"
    },
    {
     "data": {
      "image/png": "[encoded data removed]",
      "text/plain": [
       "<matplotlib.figure.Figure at 0x108d45490>"
      ]
     },
     "metadata": {},
     "output_type": "display_data"
    }
   ],
   "source": [
    "plot(np.log(np.array(R0_rel) + 1))\n",
    "plt.xlabel(\"Age\")\n",
    "plt.ylabel(\"ln(R0)\")\n",
    "plt.hlines(avg_lnR0, -1, 100)"
   ]
  },
  {
   "cell_type": "code",
   "execution_count": 91,
   "metadata": {
    "collapsed": false
   },
   "outputs": [],
   "source": [
    "plt.hlines?"
   ]
  },
  {
   "cell_type": "code",
   "execution_count": null,
   "metadata": {
    "collapsed": true
   },
   "outputs": [],
   "source": []
  }
 ],
 "metadata": {
  "kernelspec": {
   "display_name": "Python 2",
   "language": "python",
   "name": "python2"
  },
  "language_info": {
   "codemirror_mode": {
    "name": "ipython",
    "version": 2
   },
   "file_extension": ".py",
   "mimetype": "text/x-python",
   "name": "python",
   "nbconvert_exporter": "python",
   "pygments_lexer": "ipython2",
   "version": "2.7.13"
  }
 },
 "nbformat": 4,
 "nbformat_minor": 0
}
